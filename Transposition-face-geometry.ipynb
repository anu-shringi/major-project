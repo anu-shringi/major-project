{
 "cells": [
  {
   "cell_type": "code",
   "execution_count": 2,
   "metadata": {},
   "outputs": [],
   "source": [
    "from PIL import Image\n",
    "from scipy import ndimage as ndi\n",
    "from skimage.feature import peak_local_max\n",
    "from skimage import data, img_as_float\n",
    "import binascii\n",
    "import matplotlib.pyplot as plt\n",
    "import matplotlib.image as mpimg\n",
    "import cv2\n",
    "\n",
    "import numpy as np\n",
    "import imutils\n",
    "\n"
   ]
  },
  {
   "cell_type": "markdown",
   "metadata": {},
   "source": [
    "# Step 1: Biometric using Face Geometry"
   ]
  },
  {
   "cell_type": "code",
   "execution_count": 3,
   "metadata": {},
   "outputs": [
    {
     "name": "stdout",
     "output_type": "stream",
     "text": [
      "face [[ 82  48 178 178]]\n",
      "eyes [[95 42 43 43]\n",
      " [32 40 49 49]]\n"
     ]
    }
   ],
   "source": [
    "\n",
    "face_cascade = cv2.CascadeClassifier('haarcascade_frontalface_default.xml')\n",
    "eye_cascade = cv2.CascadeClassifier('haarcascade_eye.xml')\n",
    "\n",
    "originalImage = cv2.imread('face2.png')\n",
    "img = cv2.resize(originalImage, (300,300))\n",
    "face = []\n",
    "leftEyes = []\n",
    "rightEyes = []\n",
    "\n",
    "def detect_faces(img, cascade):\n",
    "    gray_frame = cv2.cvtColor(img, cv2.COLOR_BGR2GRAY)\n",
    "    coords = cascade.detectMultiScale(gray_frame, 1.3, 5)\n",
    "    face.append(coords[0][0])\n",
    "    face.append(coords[0][1])\n",
    "\n",
    "    print(\"face\",coords)\n",
    "\n",
    "    if len(coords) > 1:\n",
    "        biggest = (0, 0, 0, 0)\n",
    "        for i in coords:\n",
    "            if i[3] > biggest[3]:\n",
    "                biggest = i\n",
    "        biggest = np.array([i], np.int32)\n",
    "    elif len(coords) == 1:\n",
    "        biggest = coords\n",
    "    else:\n",
    "        return None\n",
    "    for (x, y, w, h) in biggest:\n",
    "        cv2.rectangle(img,(x,y),(x+w,y+h),(0,225,255),2)    \n",
    "\n",
    "        frame = img[y:y + h, x:x + w]\n",
    "    return frame\n",
    "\n",
    "\n",
    "def detect_eyes(img, cascade):\n",
    "    gray_frame = cv2.cvtColor(img, cv2.COLOR_BGR2GRAY)\n",
    "    eyes = cascade.detectMultiScale(gray_frame, 1.3, 5)  # detect eyes\n",
    "    print(\"eyes\" , eyes)\n",
    "    leftEyes.append(eyes[0][0])\n",
    "    leftEyes.append(eyes[0][1])\n",
    "    rightEyes.append(eyes[1][0])\n",
    "    rightEyes.append(eyes[1][1])\n",
    "\n",
    "    width = np.size(img, 1)  # get face frame width\n",
    "    height = np.size(img, 0)  # get face frame height\n",
    "    left_eye = None\n",
    "    right_eye = None\n",
    "    for (x, y, w, h) in eyes:\n",
    "        if y > height / 2:\n",
    "            pass\n",
    "        eyecenter = x + w / 2  # get the eye center\n",
    "        if eyecenter < width * 0.5:\n",
    "            left_eye = img[y:y + h, x:x + w]\n",
    "            cv2.rectangle(img,(x,y),(x+w,y+h),(0,225,255),2)\n",
    "        else:\n",
    "            right_eye = img[y:y + h, x:x + w]\n",
    "            cv2.rectangle(img,(x,y),(x+w,y+h),(0,225,255),2)\n",
    "\n",
    "    return left_eye, right_eye\n",
    "\n",
    "\n",
    "face_frame = detect_faces(img, face_cascade)\n",
    "if face_frame is not None:\n",
    "    eyes = detect_eyes(face_frame, eye_cascade)\n",
    "\n",
    "    \n",
    "cv2.imshow('my image',img)\n",
    "cv2.waitKey(0)\n",
    "cv2.destroyAllWindows() \n",
    "\n"
   ]
  },
  {
   "cell_type": "code",
   "execution_count": 5,
   "metadata": {},
   "outputs": [
    {
     "name": "stdout",
     "output_type": "stream",
     "text": [
      "face [82, 48]\n",
      "leftEyes [95, 42]\n",
      "rightEyes [32, 40]\n"
     ]
    }
   ],
   "source": [
    "print(\"face\", face)\n",
    "print(\"leftEyes\", leftEyes)\n",
    "print(\"rightEyes\", rightEyes)"
   ]
  },
  {
   "cell_type": "markdown",
   "metadata": {},
   "source": [
    "# Key Generation"
   ]
  },
  {
   "cell_type": "code",
   "execution_count": 6,
   "metadata": {},
   "outputs": [
    {
     "data": {
      "text/plain": [
       "63"
      ]
     },
     "execution_count": 6,
     "metadata": {},
     "output_type": "execute_result"
    }
   ],
   "source": [
    "distance = np.sqrt( (leftEyes[0]-rightEyes[0])**2 + (leftEyes[1]-rightEyes[1])**2 )\n",
    "distance\n",
    "\n",
    "key = int(str(distance)[:2])\n",
    "key"
   ]
  },
  {
   "cell_type": "markdown",
   "metadata": {},
   "source": [
    "# Step 2: Encrypt msg using Transposition Cipher"
   ]
  },
  {
   "cell_type": "code",
   "execution_count": 7,
   "metadata": {},
   "outputs": [
    {
     "name": "stdout",
     "output_type": "stream",
     "text": [
      "9\n"
     ]
    }
   ],
   "source": [
    "Number = key\n",
    "Sum = 0\n",
    "while(Number > 0):\n",
    "    r = Number % 10\n",
    "    Sum = Sum + r\n",
    "    Number = Number//10\n",
    "print(Sum)\n",
    "face_key = Sum\n"
   ]
  },
  {
   "cell_type": "code",
   "execution_count": 8,
   "metadata": {},
   "outputs": [
    {
     "name": "stdout",
     "output_type": "stream",
     "text": [
      "Enter data to be encoded(Without Space) : ABCabc12\n",
      "Cipher Text is\n",
      "ABCabc12|\n"
     ]
    }
   ],
   "source": [
    "#Transposition cipher \n",
    "\n",
    "def encryptMessage(key, message):\n",
    "    ciphertext = [''] * key\n",
    "   \n",
    "    for col in range(key):\n",
    "        position = col\n",
    "        while position < len(message):\n",
    "            ciphertext[col] += message[position]\n",
    "            position += key\n",
    "    return ''.join(ciphertext) #Cipher text\n",
    "    \n",
    "myMessage = input(\"Enter data to be encoded(Without Space) : \")\n",
    "#myMessage = \"Transposition Cipher\"\n",
    "\n",
    "ciphertext = encryptMessage(face_key, myMessage)\n",
    "   \n",
    "print(\"Cipher Text is\")\n",
    "print(ciphertext + '|')\n",
    "#pyperclip.copy(ciphertext)"
   ]
  },
  {
   "cell_type": "code",
   "execution_count": null,
   "metadata": {},
   "outputs": [],
   "source": []
  },
  {
   "cell_type": "markdown",
   "metadata": {},
   "source": [
    "# lsb for alphanumeric"
   ]
  },
  {
   "cell_type": "code",
   "execution_count": 23,
   "metadata": {},
   "outputs": [],
   "source": [
    "import cv2\n",
    "#import docopt\n",
    "import numpy as np\n",
    "\n",
    "\n",
    "class SteganographyException(Exception):\n",
    "    pass\n",
    "\n",
    "\n",
    "class LSBSteg():\n",
    "    def __init__(self, im):\n",
    "        self.image = im\n",
    "        self.height, self.width, self.nbchannels = im.shape\n",
    "        self.size = self.width * self.height\n",
    "        \n",
    "        self.maskONEValues = [1,2,4,8,16,32,64,128]\n",
    "        #Mask used to put one ex:1->00000001, 2->00000010 .. associated with OR bitwise\n",
    "        self.maskONE = self.maskONEValues.pop(0) #Will be used to do bitwise operations\n",
    "        \n",
    "        self.maskZEROValues = [254,253,251,247,239,223,191,127]\n",
    "        #Mak used to put zero ex:254->11111110, 253->11111101 .. associated with AND bitwise\n",
    "        self.maskZERO = self.maskZEROValues.pop(0)\n",
    "        \n",
    "        self.curwidth = key  # Current width position\n",
    "        self.curheight = key # Current height position\n",
    "        self.curchan = 0   # Current channel position\n",
    "\n",
    "    def put_binary_value(self, bits): #Put the bits in the image\n",
    "        for c in bits:\n",
    "            val = list(self.image[self.curheight,self.curwidth]) #Get the pixel value as a list\n",
    "            if int(c) == 1:\n",
    "                val[self.curchan] = int(val[self.curchan]) | self.maskONE #OR with maskONE\n",
    "            else:\n",
    "                val[self.curchan] = int(val[self.curchan]) & self.maskZERO #AND with maskZERO\n",
    "                \n",
    "            self.image[self.curheight,self.curwidth] = tuple(val)\n",
    "            self.next_slot() #Move \"cursor\" to the next space\n",
    "        \n",
    "    def next_slot(self):#Move to the next slot were information can be taken or put\n",
    "        if self.curchan == self.nbchannels-1: #Next Space is the following channel\n",
    "            self.curchan = 0\n",
    "            if self.curwidth == self.width-1: #Or the first channel of the next pixel of the same line\n",
    "                self.curwidth = 0\n",
    "                if self.curheight == self.height-1:#Or the first channel of the first pixel of the next line\n",
    "                    self.curheight = 0\n",
    "                    if self.maskONE == 128: #Mask 1000000, so the last mask\n",
    "                        raise SteganographyException(\"No available slot remaining (image filled)\")\n",
    "                    else: #Or instead of using the first bit start using the second and so on..\n",
    "                        self.maskONE = self.maskONEValues.pop(0)\n",
    "                        self.maskZERO = self.maskZEROValues.pop(0)\n",
    "                else:\n",
    "                    self.curheight +=1\n",
    "            else:\n",
    "                self.curwidth +=1\n",
    "        else:\n",
    "            self.curchan +=1\n",
    "\n",
    "    def read_bit(self): #Read a single bit int the image\n",
    "        val = self.image[self.curheight,self.curwidth][self.curchan]\n",
    "        val = int(val) & self.maskONE\n",
    "        self.next_slot()\n",
    "        if val > 0:\n",
    "            return \"1\"\n",
    "        else:\n",
    "            return \"0\"\n",
    "    \n",
    "    def read_byte(self):\n",
    "        return self.read_bits(8)\n",
    "    \n",
    "    def read_bits(self, nb): #Read the given number of bits\n",
    "        bits = \"\"\n",
    "        for i in range(nb):\n",
    "            bits += self.read_bit()\n",
    "        return bits\n",
    "\n",
    "    def byteValue(self, val):\n",
    "        return self.binary_value(val, 8)\n",
    "        \n",
    "    def binary_value(self, val, bitsize): #Return the binary value of an int as a byte\n",
    "        binval = bin(val)[2:]\n",
    "        if len(binval) > bitsize:\n",
    "            raise SteganographyException(\"binary value larger than the expected size\")\n",
    "        while len(binval) < bitsize:\n",
    "            binval = \"0\"+binval\n",
    "        return binval\n",
    "\n",
    "    def encode_text(self, txt):\n",
    "        l = len(txt)\n",
    "        binl = self.binary_value(l, 16) #Length coded on 2 bytes so the text size can be up to 65536 bytes long\n",
    "        self.put_binary_value(binl) #Put text length coded on 4 bytes\n",
    "        for char in txt: #And put all the chars\n",
    "            c = ord(char)\n",
    "            self.put_binary_value(self.byteValue(c))\n",
    "        return self.image\n",
    "       \n",
    "    def decode_text(self):\n",
    "        ls = self.read_bits(16) #Read the text size in bytes\n",
    "        l = int(ls,2)\n",
    "        i = 0\n",
    "        unhideTxt = \"\"\n",
    "        while i < l: #Read all bytes of the text\n",
    "            tmp = self.read_byte() #So one byte\n",
    "            i += 1\n",
    "            unhideTxt += chr(int(tmp,2)) #Every chars concatenated to str\n",
    "        return unhideTxt\n",
    "\n",
    "    def encode_image(self, imtohide):\n",
    "        w = imtohide.width\n",
    "        h = imtohide.height\n",
    "        if self.width*self.height*self.nbchannels < w*h*imtohide.channels:\n",
    "            raise SteganographyException(\"Carrier image not big enough to hold all the datas to steganography\")\n",
    "        binw = self.binary_value(w, 16) #Width coded on to byte so width up to 65536\n",
    "        binh = self.binary_value(h, 16)\n",
    "        self.put_binary_value(binw) #Put width\n",
    "        self.put_binary_value(binh) #Put height\n",
    "        for h in range(imtohide.height): #Iterate the hole image to put every pixel values\n",
    "            for w in range(imtohide.width):\n",
    "                for chan in range(imtohide.channels):\n",
    "                    val = imtohide[h,w][chan]\n",
    "                    self.put_binary_value(self.byteValue(int(val)))\n",
    "        return self.image\n",
    "\n",
    "                    \n",
    "    def decode_image(self):\n",
    "        width = int(self.read_bits(16),2) #Read 16bits and convert it in int\n",
    "        height = int(self.read_bits(16),2)\n",
    "        unhideimg = np.zeros((width,height, 3), np.uint8) #Create an image in which we will put all the pixels read\n",
    "        for h in range(height):\n",
    "            for w in range(width):\n",
    "                for chan in range(unhideimg.channels):\n",
    "                    val = list(unhideimg[h,w])\n",
    "                    val[chan] = int(self.read_byte(),2) #Read the value\n",
    "                    unhideimg[h,w] = tuple(val)\n",
    "        return unhideimg\n",
    "    \n",
    "    def encode_binary(self, data):\n",
    "        l = len(data)\n",
    "        if self.width*self.height*self.nbchannels < l+64:\n",
    "            raise SteganographyException(\"Carrier image not big enough to hold all the datas to steganography\")\n",
    "        self.put_binary_value(self.binary_value(l, 64))\n",
    "        for byte in data:\n",
    "            byte = byte if isinstance(byte, int) else ord(byte) # Compat py2/py3\n",
    "            self.put_binary_value(self.byteValue(byte))\n",
    "        return self.image\n",
    "\n",
    "    def decode_binary(self):\n",
    "        l = int(self.read_bits(64), 2)\n",
    "        output = b\"\"\n",
    "        for i in range(l):\n",
    "            output += chr(int(self.read_byte(),2)).encode(\"utf-8\")\n",
    "        return output\n",
    "\n"
   ]
  },
  {
   "cell_type": "code",
   "execution_count": 24,
   "metadata": {},
   "outputs": [
    {
     "name": "stdout",
     "output_type": "stream",
     "text": [
      "res ABCabc12\n",
      "Text value: ABCabc12\n"
     ]
    }
   ],
   "source": [
    "res= str(ciphertext)\n",
    "print(\"res\",res)\n",
    "#encoding\n",
    "steg = LSBSteg(cv2.imread(\"source_img.png\"))\n",
    "img_encoded = steg.encode_text(res)\n",
    "cv2.imwrite(\"my_new_image.png\", img_encoded)\n",
    "\n",
    "#decoding\n",
    "im = cv2.imread(\"my_new_image.png\")\n",
    "steg = LSBSteg(im)\n",
    "print(\"Text value:\",steg.decode_text())"
   ]
  },
  {
   "cell_type": "markdown",
   "metadata": {},
   "source": [
    "# # Step 3: Image Steganography using LSB\n"
   ]
  },
  {
   "cell_type": "code",
   "execution_count": 16,
   "metadata": {},
   "outputs": [
    {
     "name": "stdout",
     "output_type": "stream",
     "text": [
      "res ABCabc12\n",
      "msg length 54\n",
      "4000\n",
      "2249\n",
      "63\n"
     ]
    }
   ],
   "source": [
    "'''\n",
    "- First carrier image or cover image has been read and converted in to array of bits\n",
    "- the secret message which is in the form of characters are converted in to the “ASCII” values\n",
    "- ASCII values are converted in to array of bits\n",
    "- key will gives unique pixel position of cover image to embed the data LSB of particular image pixel of cover object\n",
    "\n",
    "Output: Stego-image has been generated which contains secret message embedded within cover image.\n",
    "\n",
    "'''\n",
    "#res = input(\"Enter data to be encoded(Without Space) : \") \n",
    "res= str(ciphertext)\n",
    "print(\"res\",res)\n",
    "\n",
    "data = ''.join(format(ord(i), 'b') for i in res) \n",
    "#print(\"The string after binary conversion : \" + data) \n",
    "msg_len = len(data)\n",
    "print(\"msg length\",msg_len)\n",
    "            \n",
    "    \n",
    "i=0\n",
    "\n",
    "with Image.open(\"source_img.png\") as img:\n",
    "   \n",
    "    width, height = img.size\n",
    "    print(width)\n",
    "    print(height)\n",
    "    #img.show()\n",
    "    print(key)\n",
    "    for x in range(key, width):\n",
    "        for y in range(key, height):\n",
    "            pixel = list(img.getpixel((x, y)))\n",
    "            for n in range(0,3):\n",
    "                if(i < len(data)):\n",
    "                    pixel[n] = pixel[n] & ~1 | int(data[i])\n",
    "                    i+=1\n",
    "                    \n",
    "            img.putpixel((x,y), tuple(pixel))\n",
    "            \n",
    "    \n",
    "    img.save(\"source_secret.png\", \"PNG\")\n",
    "        \n",
    "        "
   ]
  },
  {
   "cell_type": "markdown",
   "metadata": {},
   "source": [
    "# Step 4: Data Extraction using LSB"
   ]
  },
  {
   "cell_type": "code",
   "execution_count": 11,
   "metadata": {},
   "outputs": [
    {
     "name": "stdout",
     "output_type": "stream",
     "text": [
      "decoded_msg:=  ghjedf\n"
     ]
    }
   ],
   "source": [
    "'''\n",
    "- Embedded secret data has extracted from stego-image\n",
    "- Extracting secret data the hand key is used\n",
    "\n",
    "'''\n",
    "extracted_bin = []\n",
    "with Image.open(\"source_secret.png\") as img:\n",
    "    width, height = img.size\n",
    "    byte = []\n",
    "    for x in range(key, width):\n",
    "        for y in range(key, height):\n",
    "            pixel = list(img.getpixel((x, y)))\n",
    "            for n in range(0,3):\n",
    "                extracted_bin.append(pixel[n]&1)\n",
    "\n",
    "data = \"\".join([str(x) for x in extracted_bin])\n",
    "msg =''\n",
    "\n",
    "for i in range(msg_len):\n",
    "    msg+=str(extracted_bin[i])\n",
    "#print(msg)\n",
    "\n",
    "decoded_msg = ''.join(chr(int(msg[i*7:i*7+7],2)) for i in range(len(msg)//7))\n",
    "print(\"decoded_msg:= \",decoded_msg)\n"
   ]
  },
  {
   "cell_type": "markdown",
   "metadata": {},
   "source": [
    "# Step 5: decrypt msg using Transposition Cipher"
   ]
  },
  {
   "cell_type": "code",
   "execution_count": 12,
   "metadata": {},
   "outputs": [
    {
     "name": "stdout",
     "output_type": "stream",
     "text": [
      "The plain text is\n",
      "ghjedf\n"
     ]
    }
   ],
   "source": [
    "import math\n",
    "def decryptMessage(key, message):\n",
    "    \n",
    "    numOfColumns = math.ceil(len(message) / key)\n",
    "    numOfRows = key\n",
    "    numOfShadedBoxes = (numOfColumns * numOfRows) - len(message)\n",
    "    plaintext = [\"\"]  * numOfColumns\n",
    "    col = 0\n",
    "    row = 0\n",
    "   \n",
    "    for symbol in message:\n",
    "        plaintext[col] += symbol\n",
    "        col += 1\n",
    "        if (col == numOfColumns) or (col == numOfColumns - 1 and row >= numOfRows - numOfShadedBoxes):\n",
    "                col = 0 \n",
    "                row += 1 \n",
    "    return ''.join(plaintext)\n",
    "            \n",
    "plaintext = decryptMessage(face_key, decoded_msg)\n",
    "   \n",
    "print(\"The plain text is\")\n",
    "print(plaintext)\n"
   ]
  },
  {
   "cell_type": "code",
   "execution_count": null,
   "metadata": {},
   "outputs": [],
   "source": []
  }
 ],
 "metadata": {
  "kernelspec": {
   "display_name": "Python 3",
   "language": "python",
   "name": "python3"
  },
  "language_info": {
   "codemirror_mode": {
    "name": "ipython",
    "version": 3
   },
   "file_extension": ".py",
   "mimetype": "text/x-python",
   "name": "python",
   "nbconvert_exporter": "python",
   "pygments_lexer": "ipython3",
   "version": "3.7.4"
  }
 },
 "nbformat": 4,
 "nbformat_minor": 2
}
